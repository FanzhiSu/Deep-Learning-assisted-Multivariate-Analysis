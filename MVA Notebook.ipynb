{
 "cells": [
  {
   "cell_type": "code",
   "execution_count": null,
   "metadata": {},
   "outputs": [],
   "source": [
    "#load required libraries, set default colour map\n",
    "%matplotlib qt\n",
    "import hyperspy.api as hs\n",
    "import numpy as np\n",
    "import matplotlib.pyplot as plt\n",
    "plt.set_cmap(\"magma\")"
   ]
  },
  {
   "cell_type": "code",
   "execution_count": null,
   "metadata": {},
   "outputs": [],
   "source": [
    "#load the SIs\n",
    "s1 = hs.load(\"Control1.emi\")\n",
    "s2 = hs.load(\"Control2.emi\")\n",
    "s3 = hs.load(\"Aerosol1.emi\")\n",
    "s4 = hs.load(\"Aerosol2.emi\")"
   ]
  },
  {
   "cell_type": "code",
   "execution_count": null,
   "metadata": {},
   "outputs": [],
   "source": [
    "#cut energy axis at 13 keV\n",
    "s1.crop(axis=2, end=2600)\n",
    "s2.crop(axis=2, end=2600)\n",
    "s3.crop(axis=2, end=2600)\n",
    "s4.crop(axis=2, end=2600)"
   ]
  },
  {
   "cell_type": "code",
   "execution_count": null,
   "metadata": {},
   "outputs": [],
   "source": [
    "#crop navigation axes\n",
    "s1.crop(axis=0, start=13, end=88)\n",
    "s2.crop(axis=0, start=15, end=90)\n",
    "s3.crop(axis=0, start=25, end=115)\n",
    "s4.crop(axis=0, start=17, end=107)"
   ]
  },
  {
   "cell_type": "code",
   "execution_count": null,
   "metadata": {},
   "outputs": [],
   "source": [
    "#rebin energy axis by 4\n",
    "s1 = s1.rebin([75,500,650])\n",
    "s2 = s2.rebin([75,500,650])\n",
    "s3 = s3.rebin([90,500,650])\n",
    "s4 = s4.rebin([90,500,650])"
   ]
  },
  {
   "cell_type": "code",
   "execution_count": null,
   "metadata": {},
   "outputs": [],
   "source": [
    "#standardise EDX signal intensity\n",
    "s1 = s1*1.2\n",
    "s2 = s2*1.1"
   ]
  },
  {
   "cell_type": "code",
   "execution_count": null,
   "metadata": {},
   "outputs": [],
   "source": [
    "#stack SIs\n",
    "s = hs.stack([s1, s2, s3, s4], axis = 0)"
   ]
  },
  {
   "cell_type": "code",
   "execution_count": null,
   "metadata": {},
   "outputs": [],
   "source": [
    "#set title\n",
    "s.metadata.set_item(\"General.title\", 'MVA')"
   ]
  },
  {
   "cell_type": "code",
   "execution_count": null,
   "metadata": {},
   "outputs": [],
   "source": [
    "s.change_dtype('float32')"
   ]
  },
  {
   "cell_type": "code",
   "execution_count": null,
   "metadata": {},
   "outputs": [],
   "source": [
    "#PCA\n",
    "s.decomposition(normalize_poissonian_noise=True)"
   ]
  },
  {
   "cell_type": "code",
   "execution_count": null,
   "metadata": {},
   "outputs": [],
   "source": [
    "s.plot_explained_variance_ratio(n=30)"
   ]
  },
  {
   "cell_type": "code",
   "execution_count": null,
   "metadata": {},
   "outputs": [],
   "source": [
    "s.plot_decomposition_results()"
   ]
  },
  {
   "cell_type": "code",
   "execution_count": null,
   "metadata": {},
   "outputs": [],
   "source": [
    "#put PCA factors into variable of type signal, named PCA_factors\n",
    "PCA_factors=s.get_decomposition_factors()\n",
    "#do the same for loadings\n",
    "PCA_loadings=s.get_decomposition_loadings()"
   ]
  },
  {
   "cell_type": "code",
   "execution_count": null,
   "metadata": {},
   "outputs": [],
   "source": [
    "#save PCA factors as .tif\n",
    "for i in [0,1,2,3,4,5,6,7,8,9,10,11,12,13,14,15]:\n",
    "    PCA_factors.inav[i].plot()\n",
    "    fig = plt.gcf()\n",
    "    fig.savefig('PCA_factor_%i.tif'%i)"
   ]
  },
  {
   "cell_type": "code",
   "execution_count": null,
   "metadata": {},
   "outputs": [],
   "source": [
    "#save PCA loadings as .tif\n",
    "for i in [0,1,2,3,4,5,6,7,8,9,10,11,12,13,14,15]:\n",
    "    PCA_loadings.inav[i].plot()\n",
    "    fig = plt.gcf()\n",
    "    fig.savefig('PCA_loading_%i.tif'%i)"
   ]
  },
  {
   "cell_type": "code",
   "execution_count": null,
   "metadata": {},
   "outputs": [],
   "source": [
    "#save PCA factors for plotting if needed\n",
    "PCA_factors.inav[0].data.tofile(file=\"PCA_factor_0\", sep=\",\", format=\"%f\")\n",
    "PCA_factors.inav[1].data.tofile(file=\"PCA_factor_1\", sep=\",\", format=\"%f\")\n",
    "PCA_factors.inav[2].data.tofile(file=\"PCA_factor_2\", sep=\",\", format=\"%f\")\n",
    "PCA_factors.inav[3].data.tofile(file=\"PCA_factor_3\", sep=\",\", format=\"%f\")\n",
    "PCA_factors.inav[4].data.tofile(file=\"PCA_factor_4\", sep=\",\", format=\"%f\")\n",
    "PCA_factors.inav[5].data.tofile(file=\"PCA_factor_5\", sep=\",\", format=\"%f\")\n",
    "PCA_factors.inav[6].data.tofile(file=\"PCA_factor_6\", sep=\",\", format=\"%f\")\n",
    "PCA_factors.inav[7].data.tofile(file=\"PCA_factor_7\", sep=\",\", format=\"%f\")\n",
    "PCA_factors.inav[8].data.tofile(file=\"PCA_factor_8\", sep=\",\", format=\"%f\")\n",
    "PCA_factors.inav[9].data.tofile(file=\"PCA_factor_9\", sep=\",\", format=\"%f\")\n",
    "PCA_factors.inav[10].data.tofile(file=\"PCA_factor_10\", sep=\",\", format=\"%f\")\n",
    "PCA_factors.inav[11].data.tofile(file=\"PCA_factor_11\", sep=\",\", format=\"%f\")\n",
    "PCA_factors.inav[12].data.tofile(file=\"PCA_factor_12\", sep=\",\", format=\"%f\")\n",
    "PCA_factors.inav[13].data.tofile(file=\"PCA_factor_13\", sep=\",\", format=\"%f\")\n",
    "PCA_factors.inav[14].data.tofile(file=\"PCA_factor_14\", sep=\",\", format=\"%f\")\n",
    "PCA_factors.inav[15].data.tofile(file=\"PCA_factor_15\", sep=\",\", format=\"%f\")"
   ]
  },
  {
   "cell_type": "code",
   "execution_count": null,
   "metadata": {},
   "outputs": [],
   "source": [
    "#NMF\n",
    "s.decomposition(True, algorithm=\"nmf\", tol=1e-10, max_iter=1000, output_dimension=4)"
   ]
  },
  {
   "cell_type": "code",
   "execution_count": null,
   "metadata": {},
   "outputs": [],
   "source": [
    "s.plot_decomposition_results()"
   ]
  },
  {
   "cell_type": "code",
   "execution_count": null,
   "metadata": {},
   "outputs": [],
   "source": [
    "#put NMF-ed factors into variable of type signal, named NMF_factors\n",
    "NMF_factors=s.get_decomposition_factors()\n",
    "#do the same for loadings\n",
    "NMF_loadings=s.get_decomposition_loadings()"
   ]
  },
  {
   "cell_type": "code",
   "execution_count": null,
   "metadata": {},
   "outputs": [],
   "source": [
    "#save NMF factors for plotting if needed\n",
    "NMF_factors.inav[0].data.tofile(file=\"NMF_factor_0\", sep=\",\", format=\"%f\")\n",
    "NMF_factors.inav[1].data.tofile(file=\"NMF_factor_1\", sep=\",\", format=\"%f\")\n",
    "NMF_factors.inav[2].data.tofile(file=\"NMF_factor_2\", sep=\",\", format=\"%f\")\n",
    "NMF_factors.inav[3].data.tofile(file=\"NMF_factor_3\", sep=\",\", format=\"%f\")"
   ]
  },
  {
   "cell_type": "code",
   "execution_count": null,
   "metadata": {},
   "outputs": [],
   "source": [
    "for i in [0,1,2,3]:\n",
    "    NMF_factors.inav[i].plot()\n",
    "    fig = plt.gcf()\n",
    "    fig.savefig('NMF_factor_%i.tif'%i)"
   ]
  },
  {
   "cell_type": "code",
   "execution_count": null,
   "metadata": {},
   "outputs": [],
   "source": [
    "for i in [0,1,2,3]:\n",
    "    NMF_loadings.inav[i].plot()\n",
    "    fig = plt.gcf()\n",
    "    fig.savefig('NMF_loading_%i.tif'%i)"
   ]
  },
  {
   "cell_type": "code",
   "execution_count": null,
   "metadata": {},
   "outputs": [],
   "source": [
    "#Elemental mapping"
   ]
  },
  {
   "cell_type": "code",
   "execution_count": null,
   "metadata": {},
   "outputs": [],
   "source": [
    "#build denoised model\n",
    "sm=s.get_decomposition_model([0,1,2,3])"
   ]
  },
  {
   "cell_type": "code",
   "execution_count": null,
   "metadata": {},
   "outputs": [],
   "source": [
    "sm.set_signal_type(\"EDS_TEM\")"
   ]
  },
  {
   "cell_type": "code",
   "execution_count": null,
   "metadata": {},
   "outputs": [],
   "source": [
    "sm.set_elements(['C','I','In','N','Pb','Sn'])"
   ]
  },
  {
   "cell_type": "code",
   "execution_count": null,
   "metadata": {},
   "outputs": [],
   "source": [
    "sm.set_lines([\"C_Ka\",\"I_La\",\"In_La\",\"N_Ka\",\"Pb_La\",\"Sn_La\"])"
   ]
  },
  {
   "cell_type": "code",
   "execution_count": null,
   "metadata": {},
   "outputs": [],
   "source": [
    "sm.plot()"
   ]
  },
  {
   "cell_type": "code",
   "execution_count": null,
   "metadata": {},
   "outputs": [],
   "source": [
    "#construct background windows\n",
    "bw = sm.estimate_background_windows(line_width=[5.0, 2.0])"
   ]
  },
  {
   "cell_type": "code",
   "execution_count": null,
   "metadata": {},
   "outputs": [],
   "source": [
    "#manually set position and width of BG windows\n",
    "\n",
    "#C_Ka\n",
    "bw[0,0] = 145\n",
    "bw[0,1] = 201\n",
    "bw[0,2] = 640\n",
    "bw[0,3] = 696\n",
    "\n",
    "#I_La\n",
    "bw[1,0] = 2815.5\n",
    "bw[1,1] = 2925\n",
    "bw[1,2] = 5272\n",
    "bw[1,3] = 5381.5\n",
    "\n",
    "#In_La\n",
    "bw[2,0] = 2815.5\n",
    "bw[2,1] = 2925\n",
    "bw[2,2] = 5272\n",
    "bw[2,3] = 5381.5\n",
    "\n",
    "#N_Ka\n",
    "bw[3,0] = 145.0\n",
    "bw[3,1] = 201\n",
    "bw[3,2] = 640\n",
    "bw[3,3] = 696.0\n",
    "\n",
    "#Pb_La\n",
    "bw[4,0] = 10045.2\n",
    "bw[4,1] = 10224\n",
    "bw[4,2] = 10820\n",
    "bw[4,3] = 10988.9\n",
    "\n",
    "#Sn_La\n",
    "bw[5,0] = 2815.5\n",
    "bw[5,1] = 2925\n",
    "bw[5,2] = 5272\n",
    "bw[5,3] = 5381.5"
   ]
  },
  {
   "cell_type": "code",
   "execution_count": null,
   "metadata": {},
   "outputs": [],
   "source": [
    "bw"
   ]
  },
  {
   "cell_type": "code",
   "execution_count": null,
   "metadata": {},
   "outputs": [],
   "source": [
    "#check that BG windows do not overlap with any peaks\n",
    "sm.plot(background_windows=bw)"
   ]
  },
  {
   "cell_type": "code",
   "execution_count": null,
   "metadata": {},
   "outputs": [],
   "source": [
    "#extract line intensities\n",
    "intensities=sm.get_lines_intensity(background_windows=bw, plot_result=False)"
   ]
  },
  {
   "cell_type": "code",
   "execution_count": null,
   "metadata": {},
   "outputs": [],
   "source": [
    "#remove unphysical negative signal intensity\n",
    "intensities[0].data[intensities[0].data < 0] = 0\n",
    "intensities[1].data[intensities[1].data < 0] = 0\n",
    "intensities[2].data[intensities[2].data < 0] = 0\n",
    "intensities[3].data[intensities[3].data < 0] = 0\n",
    "intensities[4].data[intensities[4].data < 0] = 0\n",
    "intensities[5].data[intensities[5].data < 0] = 0"
   ]
  },
  {
   "cell_type": "code",
   "execution_count": null,
   "metadata": {},
   "outputs": [],
   "source": [
    "kfactors = [2.452, #C_Ka\n",
    "            3.413, #I_La\n",
    "            2.620, #In_La\n",
    "            3.856, #N_Ka\n",
    "            4.374, #Pb_La\n",
    "            2.653] #Sn_La"
   ]
  },
  {
   "cell_type": "code",
   "execution_count": null,
   "metadata": {},
   "outputs": [],
   "source": [
    "#quantification\n",
    "maps=sm.quantification(intensities, method='CL', factors=kfactors, composition_units='atomic', plot_result=False)"
   ]
  },
  {
   "cell_type": "code",
   "execution_count": null,
   "metadata": {},
   "outputs": [],
   "source": [
    "#save quant maps as .tif\n",
    "maps_img0 = maps[0].as_signal2D((0,1))\n",
    "maps_img0.plot(vmin=0, vmax=100, cmap=\"magma\")\n",
    "fig = plt.gcf()\n",
    "fig.savefig('C_Ka_map.tif')\n",
    "\n",
    "maps_img1 = maps[1].as_signal2D((0,1))\n",
    "maps_img1.plot(vmin=0, vmax=70, cmap=\"magma\")\n",
    "fig = plt.gcf()\n",
    "fig.savefig('I_La_map.tif')\n",
    "\n",
    "maps_img2 = maps[2].as_signal2D((0,1))\n",
    "maps_img2.plot(vmin=0, vmax=30)\n",
    "fig = plt.gcf()\n",
    "fig.savefig('In_La_map.tif')\n",
    "\n",
    "maps_img3 = maps[3].as_signal2D((0,1))\n",
    "maps_img3.plot(vmin=0, vmax=30, cmap=\"magma\")\n",
    "fig = plt.gcf()\n",
    "fig.savefig('N_Ka_map.tif')\n",
    "\n",
    "maps_img4 = maps[4].as_signal2D((0,1))\n",
    "maps_img4.plot(vmin=0, vmax=25, cmap=\"magma\")\n",
    "fig = plt.gcf()\n",
    "fig.savefig('Pb_La_map.tif')\n",
    "\n",
    "maps_img5 = maps[5].as_signal2D((0,1))\n",
    "maps_img5.plot(vmin=0, vmax=20)\n",
    "fig = plt.gcf()\n",
    "fig.savefig('Sn_La_map.tif')"
   ]
  },
  {
   "cell_type": "code",
   "execution_count": null,
   "metadata": {},
   "outputs": [],
   "source": [
    "#extract quantified values for each element\n",
    "C = maps[0]\n",
    "I = maps[1]\n",
    "In = maps[2]\n",
    "N = maps[3]\n",
    "Pb = maps[4]\n",
    "Sn = maps[5]"
   ]
  },
  {
   "cell_type": "code",
   "execution_count": null,
   "metadata": {},
   "outputs": [],
   "source": [
    "#ratio maps construction\n",
    "#only show pixels where percentages of I and Pb are non-zero\n",
    "mask_I  = I > 0.01\n",
    "mask_Pb = Pb > 0.01\n",
    "maskI=I*mask_I\n",
    "maskPb=Pb*mask_Pb\n",
    "I_Pb=maskI/maskPb\n",
    "\n",
    "#remove negative and infinite values\n",
    "I_Pb.data = np.nan_to_num(I_Pb.data)\n",
    "I_Pb.data[I_Pb.data < 0] = 0 \n",
    "I_Pb.data[I_Pb.data > 1000000] = 1000000\n",
    "\n",
    "I_Pb.metadata.set_item(\"General.title\", 'I/Pb at%')\n",
    "I_Pbimage = I_Pb.as_signal2D((0,1))\n",
    "I_Pbimage = I_Pbimage.rebin([165,250])\n",
    "I_Pbimage = I_Pbimage/4\n",
    "I_Pbimage.plot(vmin=2.5, vmax=3.5, cmap=\"magma\")\n",
    "fig = plt.gcf()\n",
    "fig.savefig('I_Pbratio.tif')"
   ]
  },
  {
   "cell_type": "code",
   "execution_count": null,
   "metadata": {},
   "outputs": [],
   "source": [
    "#ratio maps construction\n",
    "#only show pixels where percentages of N and Pb are non-zero\n",
    "mask_N  = N > 0.01\n",
    "mask_Pb = Pb > 0.01\n",
    "maskN=N*mask_N\n",
    "maskPb=Pb*mask_Pb\n",
    "N_Pb=maskN/maskPb\n",
    "\n",
    "#remove negative and infinite values\n",
    "N_Pb.data = np.nan_to_num(N_Pb.data)\n",
    "N_Pb.data[N_Pb.data < 0] = 0 \n",
    "N_Pb.data[N_Pb.data > 1000000] = 1000000\n",
    "\n",
    "N_Pb.metadata.set_item(\"General.title\", 'N/Pb at%')\n",
    "N_Pbimage = N_Pb.as_signal2D((0,1))\n",
    "N_Pbimage = N_Pbimage.rebin([165,250])\n",
    "N_Pbimage = N_Pbimage/4\n",
    "N_Pbimage.plot(vmin=0, vmax=2, cmap=\"magma\")\n",
    "fig = plt.gcf()\n",
    "fig.savefig('N_Pbratio.tif')"
   ]
  },
  {
   "cell_type": "code",
   "execution_count": null,
   "metadata": {},
   "outputs": [],
   "source": [
    "histo_C = np.histogram(C, range=[0,100], bins=100, density=False)\n",
    "histo_I = np.histogram(I, range=[0,100], bins=100, density=False)\n",
    "histo_N = np.histogram(N, range=[0,100], bins=100, density=False)\n",
    "histo_Pb = np.histogram(Pb, range=[0,100], bins=100, density=False)\n",
    "histo_I_Pb = np.histogram(I_Pb, range=[0,5], bins=100, density=False)\n",
    "histo_N_Pb = np.histogram(N_Pb, range=[0,5], bins=100, density=False)\n",
    "\n",
    "histo_C[0].tofile(file=\"histo_C\", sep=\",\", format=\"%f\")\n",
    "histo_I[0].tofile(file=\"histo_I\", sep=\",\", format=\"%f\")\n",
    "histo_N[0].tofile(file=\"histo_N\", sep=\",\", format=\"%f\")\n",
    "histo_Pb[0].tofile(file=\"histo_Pb\", sep=\",\", format=\"%f\")\n",
    "histo_I_Pb[0].tofile(file=\"histo_I_Pb\", sep=\",\", format=\"%f\")\n",
    "histo_N_Pb[0].tofile(file=\"histo_N_Pb\", sep=\",\", format=\"%f\")"
   ]
  },
  {
   "cell_type": "code",
   "execution_count": null,
   "metadata": {},
   "outputs": [],
   "source": []
  }
 ],
 "metadata": {
  "kernelspec": {
   "display_name": "Python 3",
   "language": "python",
   "name": "python3"
  },
  "language_info": {
   "codemirror_mode": {
    "name": "ipython",
    "version": 3
   },
   "file_extension": ".py",
   "mimetype": "text/x-python",
   "name": "python",
   "nbconvert_exporter": "python",
   "pygments_lexer": "ipython3",
   "version": "3.7.4"
  }
 },
 "nbformat": 4,
 "nbformat_minor": 2
}
